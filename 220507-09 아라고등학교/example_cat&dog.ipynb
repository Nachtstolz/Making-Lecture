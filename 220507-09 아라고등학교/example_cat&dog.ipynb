{
 "cells": [
  {
   "cell_type": "code",
   "execution_count": 4,
   "metadata": {},
   "outputs": [],
   "source": [
    "# 강아지와 고양이 분류하기\n",
    "# 특징 : 귀의 처짐, 활동성\n",
    "dog_ear = [7.8, 8.2, 9.1, 7.7, 8.6, 9.2, 9.6, 6.7, 8.8, 7.0]\n",
    "dog_act = [9.9, 7.8, 8.2, 8.4, 7.3, 9.1, 8.5, 7.6, 8.8, 7.2]"
   ]
  },
  {
   "cell_type": "code",
   "execution_count": 5,
   "metadata": {},
   "outputs": [
    {
     "data": {
      "image/png": "[encoded data removed]",
      "text/plain": [
       "<Figure size 432x288 with 1 Axes>"
      ]
     },
     "metadata": {
      "needs_background": "light"
     },
     "output_type": "display_data"
    }
   ],
   "source": [
    "import matplotlib.pyplot as plt\n",
    "plt.scatter(dog_ear, dog_act)\n",
    "plt.xlabel('ear')\n",
    "plt.ylabel('activate')\n",
    "plt.show()"
   ]
  },
  {
   "cell_type": "code",
   "execution_count": 6,
   "metadata": {},
   "outputs": [],
   "source": [
    "cat_ear = [3.2, 2.7, 1.7, 4.2, 3.5, 4.0, 2.9, 3.1, 2.6, 2.9]\n",
    "cat_act = [1.1, 0.8, 3.2, 4.1, 1.8, 2.2, 0.9, 1.6, 1.2, 3.6]"
   ]
  },
  {
   "cell_type": "code",
   "execution_count": 8,
   "metadata": {},
   "outputs": [
    {
     "data": {
      "image/png": "[encoded data removed]",
      "text/plain": [
       "<Figure size 432x288 with 1 Axes>"
      ]
     },
     "metadata": {
      "needs_background": "light"
     },
     "output_type": "display_data"
    }
   ],
   "source": [
    "plt.scatter(dog_ear, dog_act)\n",
    "plt.scatter(cat_ear, cat_act)\n",
    "plt.xlabel('ear')\n",
    "plt.ylabel('activate')\n",
    "plt.show()"
   ]
  },
  {
   "cell_type": "code",
   "execution_count": 13,
   "metadata": {},
   "outputs": [],
   "source": [
    "ear = dog_ear + cat_ear\n",
    "act = dog_act + cat_act\n",
    "animal_data = [[l, w] for l, w in zip(ear, act)]"
   ]
  },
  {
   "cell_type": "code",
   "execution_count": 14,
   "metadata": {},
   "outputs": [],
   "source": [
    "animal_target = [1] * 10 + [0] * 10"
   ]
  },
  {
   "cell_type": "code",
   "execution_count": 17,
   "metadata": {},
   "outputs": [],
   "source": [
    "from sklearn.neighbors import KNeighborsClassifier\n",
    "kn = KNeighborsClassifier(n_neighbors=3)"
   ]
  },
  {
   "cell_type": "code",
   "execution_count": 18,
   "metadata": {},
   "outputs": [
    {
     "name": "stdout",
     "output_type": "stream",
     "text": [
      "1.0\n"
     ]
    }
   ],
   "source": [
    "kn.fit(animal_data, animal_target)\n",
    "print(kn.score(animal_data, animal_target))"
   ]
  },
  {
   "cell_type": "code",
   "execution_count": null,
   "metadata": {},
   "outputs": [],
   "source": []
  }
 ],
 "metadata": {
  "kernelspec": {
   "display_name": "Python 3",
   "language": "python",
   "name": "python3"
  },
  "language_info": {
   "codemirror_mode": {
    "name": "ipython",
    "version": 3
   },
   "file_extension": ".py",
   "mimetype": "text/x-python",
   "name": "python",
   "nbconvert_exporter": "python",
   "pygments_lexer": "ipython3",
   "version": "3.7.3"
  }
 },
 "nbformat": 4,
 "nbformat_minor": 2
}

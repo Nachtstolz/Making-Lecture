{
 "cells": [
  {
   "cell_type": "markdown",
   "metadata": {},
   "source": [
    "### 함수"
   ]
  },
  {
   "cell_type": "markdown",
   "metadata": {},
   "source": [
    "함수 설명 및 선언 방법 -> PPT 참고"
   ]
  },
  {
   "cell_type": "code",
   "execution_count": 1,
   "metadata": {
    "scrolled": true
   },
   "outputs": [
    {
     "name": "stdout",
     "output_type": "stream",
     "text": [
      "순서2\n",
      "순서1\n",
      "순서3\n",
      "f(10) = 153\n"
     ]
    }
   ],
   "source": [
    "# 함수 맛보기 - 정의와 호출 실습\n",
    "def myFunc(x) : # 함수 정의\n",
    "    print('순서1')\n",
    "    result = x**2 + 5*x + 3\n",
    "    return result\n",
    "\n",
    "# 여기부터 실행된다\n",
    "print('순서2')\n",
    "x = 10\n",
    "y = myFunc(x) # 함수 호출\n",
    "print('순서3')\n",
    "print(\"f(%d) = %d\" %(x, y))"
   ]
  },
  {
   "cell_type": "markdown",
   "metadata": {},
   "source": [
    "**입력과 출력이 빈 함수**  \n",
    "\n",
    "입력이 없다는 것 : () 안에 아무 것도 없다 -> 파라미터가 없다는 것  \n",
    "출력이 없다는 것 : 함수 내부에 return이 없다는 것  \n",
    "*return이 필요 없는 함수라고 하더라도 함수 종료 의미에서 return 0 을 쓰는 경우도 많다*"
   ]
  },
  {
   "cell_type": "code",
   "execution_count": 2,
   "metadata": {},
   "outputs": [
    {
     "name": "stdout",
     "output_type": "stream",
     "text": [
      "Study Python Function\n",
      "안녕 파이썬\n",
      "즐거운 코딩시간이야\n",
      "Understand Function\n"
     ]
    }
   ],
   "source": [
    "def hello() :\n",
    "    print('안녕 파이썬')\n",
    "    print('즐거운 코딩시간이야')\n",
    "\n",
    "print('Study Python Function')\n",
    "hello()\n",
    "print('Understand Function')"
   ]
  },
  {
   "cell_type": "markdown",
   "metadata": {},
   "source": [
    "**입력은 있지만 출력은 없는 함수**  "
   ]
  },
  {
   "cell_type": "code",
   "execution_count": 3,
   "metadata": {},
   "outputs": [
    {
     "name": "stdout",
     "output_type": "stream",
     "text": [
      "2004년생 올해 19살 입니다.\n",
      "2005년생 올해 18살 입니다.\n",
      "2008년생 올해 15살 입니다.\n"
     ]
    }
   ],
   "source": [
    "def 나이출력(year) :\n",
    "    age = 2022-year+1\n",
    "    print(\"%d년생\" %year, end=\" \")\n",
    "    print(\"올해 %d살 입니다.\" %age)\n",
    "    \n",
    "나이출력(2004)\n",
    "나이출력(2005)\n",
    "나이출력(2008)"
   ]
  },
  {
   "cell_type": "markdown",
   "metadata": {},
   "source": [
    "**리턴이 있는 함수**  \n",
    "\n",
    "계산된 값이 return 키워드를 사용하여 내보내주고,  \n",
    "함수를 호출하면 함수가 실행되며 함수 표시 영역이 계산된 값으로 대치된다."
   ]
  },
  {
   "cell_type": "code",
   "execution_count": 4,
   "metadata": {},
   "outputs": [
    {
     "name": "stdout",
     "output_type": "stream",
     "text": [
      "함수 호출\n",
      "15\n",
      "20\n"
     ]
    }
   ],
   "source": [
    "def func(x) :\n",
    "    y = 5*x + 10\n",
    "    return y\n",
    "\n",
    "print(\"함수 호출\")\n",
    "a = func(1)\n",
    "print(a)\n",
    "b = func(2)\n",
    "print(b)"
   ]
  },
  {
   "cell_type": "markdown",
   "metadata": {},
   "source": [
    "**입력이 두 개 이상인 함수**  \n",
    "\n",
    "함수의 입력 파라미터는 꼭 1개일 필요가 없고, 2개 이상일 수도, 0개일 수도 있다.  "
   ]
  },
  {
   "cell_type": "code",
   "execution_count": 5,
   "metadata": {},
   "outputs": [
    {
     "name": "stdout",
     "output_type": "stream",
     "text": [
      "f(3,5)= 351\n",
      "f(5,8)= 581\n"
     ]
    },
    {
     "ename": "TypeError",
     "evalue": "func() missing 2 required positional arguments: 'a' and 'b'",
     "output_type": "error",
     "traceback": [
      "\u001b[1;31m---------------------------------------------------------------------------\u001b[0m",
      "\u001b[1;31mTypeError\u001b[0m                                 Traceback (most recent call last)",
      "\u001b[1;32m<ipython-input-5-36884824a0a5>\u001b[0m in \u001b[0;36m<module>\u001b[1;34m\u001b[0m\n\u001b[0;32m      7\u001b[0m \u001b[0my2\u001b[0m \u001b[1;33m=\u001b[0m \u001b[0mfunc\u001b[0m\u001b[1;33m(\u001b[0m\u001b[1;36m5\u001b[0m\u001b[1;33m,\u001b[0m \u001b[1;36m8\u001b[0m\u001b[1;33m)\u001b[0m\u001b[1;33m\u001b[0m\u001b[1;33m\u001b[0m\u001b[0m\n\u001b[0;32m      8\u001b[0m \u001b[0mprint\u001b[0m\u001b[1;33m(\u001b[0m\u001b[1;34m\"f(5,8)=\"\u001b[0m\u001b[1;33m,\u001b[0m \u001b[0my2\u001b[0m\u001b[1;33m)\u001b[0m\u001b[1;33m\u001b[0m\u001b[1;33m\u001b[0m\u001b[0m\n\u001b[1;32m----> 9\u001b[1;33m \u001b[0my3\u001b[0m \u001b[1;33m=\u001b[0m \u001b[0mfunc\u001b[0m\u001b[1;33m(\u001b[0m\u001b[1;33m)\u001b[0m \u001b[1;31m# 오류 발생. 인자 개수 차이 때문\u001b[0m\u001b[1;33m\u001b[0m\u001b[1;33m\u001b[0m\u001b[0m\n\u001b[0m",
      "\u001b[1;31mTypeError\u001b[0m: func() missing 2 required positional arguments: 'a' and 'b'"
     ]
    }
   ],
   "source": [
    "def func(a, b) :\n",
    "    y = 100*a + 10*b + 1\n",
    "    return y\n",
    "\n",
    "y1 = func(3, 5)\n",
    "print(\"f(3,5)=\", y1)\n",
    "y2 = func(5, 8)\n",
    "print(\"f(5,8)=\", y2)\n",
    "y3 = func() # 오류 발생. 인자 개수 차이 때문"
   ]
  },
  {
   "cell_type": "markdown",
   "metadata": {},
   "source": [
    "간단한 이차함수 만들기 실습"
   ]
  },
  {
   "cell_type": "code",
   "execution_count": null,
   "metadata": {},
   "outputs": [],
   "source": [
    "# f(x) = 3*x**2 + 7*x + 10 이라는 이차방정식 형태의 함수를 만들어보자.\n",
    "# 함수를 정의한 후 아래의 형식으로 출력해주는 프로그램을 만들어보자.\n",
    "\n",
    "'''\n",
    "함수 호출\n",
    "f(10) = 380\n",
    "f(20) = 1350\n",
    "'''\n"
   ]
  },
  {
   "cell_type": "code",
   "execution_count": null,
   "metadata": {},
   "outputs": [],
   "source": [
    "# 여기에 프로그램을 작성해보세요.\n"
   ]
  },
  {
   "cell_type": "markdown",
   "metadata": {},
   "source": [
    "디폴트 파라미터 지정방식  \n",
    "\n",
    "함수를 정의할 때 파라미터 값을 입력하지 않고 함수를 호출했을 때 기본 값(디폴트값)을 입력한 것으로 가정하여 실행"
   ]
  },
  {
   "cell_type": "code",
   "execution_count": 6,
   "metadata": {},
   "outputs": [
    {
     "name": "stdout",
     "output_type": "stream",
     "text": [
      "510\n"
     ]
    },
    {
     "ename": "TypeError",
     "evalue": "func() missing 1 required positional argument: 'x'",
     "output_type": "error",
     "traceback": [
      "\u001b[1;31m---------------------------------------------------------------------------\u001b[0m",
      "\u001b[1;31mTypeError\u001b[0m                                 Traceback (most recent call last)",
      "\u001b[1;32m<ipython-input-6-eea768352220>\u001b[0m in \u001b[0;36m<module>\u001b[1;34m\u001b[0m\n\u001b[0;32m      5\u001b[0m \u001b[1;33m\u001b[0m\u001b[0m\n\u001b[0;32m      6\u001b[0m \u001b[0mprint\u001b[0m\u001b[1;33m(\u001b[0m\u001b[0mfunc\u001b[0m\u001b[1;33m(\u001b[0m\u001b[1;36m100\u001b[0m\u001b[1;33m)\u001b[0m\u001b[1;33m)\u001b[0m\u001b[1;33m\u001b[0m\u001b[1;33m\u001b[0m\u001b[0m\n\u001b[1;32m----> 7\u001b[1;33m \u001b[0mprint\u001b[0m\u001b[1;33m(\u001b[0m\u001b[0mfunc\u001b[0m\u001b[1;33m(\u001b[0m\u001b[1;33m)\u001b[0m\u001b[1;33m)\u001b[0m\u001b[1;33m\u001b[0m\u001b[1;33m\u001b[0m\u001b[0m\n\u001b[0m",
      "\u001b[1;31mTypeError\u001b[0m: func() missing 1 required positional argument: 'x'"
     ]
    }
   ],
   "source": [
    "# 디폴트 값을 지정하지 않고 파라미터 값을 입력하지 않았을 때 에러 발생\n",
    "def func(x) :\n",
    "    y = 5*x + 10\n",
    "    return y\n",
    "\n",
    "print(func(100))\n",
    "print(func())"
   ]
  },
  {
   "cell_type": "code",
   "execution_count": 7,
   "metadata": {},
   "outputs": [
    {
     "name": "stdout",
     "output_type": "stream",
     "text": [
      "510\n",
      "60\n"
     ]
    }
   ],
   "source": [
    "# 파라미터를 x=10으로 지정 즉, 디폴트 파라미터 지정\n",
    "def func(x = 10) :\n",
    "    y = 5*x + 10\n",
    "    return y\n",
    "\n",
    "print(func(100))\n",
    "print(func())"
   ]
  },
  {
   "cell_type": "code",
   "execution_count": 8,
   "metadata": {},
   "outputs": [
    {
     "name": "stdout",
     "output_type": "stream",
     "text": [
      "351\n",
      "391\n",
      "891\n"
     ]
    }
   ],
   "source": [
    "# 결과값 예측해보기\n",
    "def func(a=8, b=9) :\n",
    "    y = 100*a + 10*b + 1\n",
    "    return y\n",
    "\n",
    "print(func(3,5))\n",
    "print(func(3))\n",
    "print(func())"
   ]
  },
  {
   "cell_type": "markdown",
   "metadata": {},
   "source": [
    "함수 응용 문제 풀이 1  \n",
    "\n",
    "원의 반지름을 입력받아 원의 둘레를 구하는 함수를 만들어보자.  \n",
    "이 함수를 활용하여 반지름이 10, 15, 20인 원의 둘레를 계산해보자."
   ]
  },
  {
   "cell_type": "code",
   "execution_count": null,
   "metadata": {},
   "outputs": [],
   "source": [
    "# 여기에 문제 1을 풀어보세요\n"
   ]
  },
  {
   "cell_type": "markdown",
   "metadata": {},
   "source": [
    "함수 응용 문제 풀이 2  \n",
    "\n",
    "짝수인지 홀수인지 판별해주는 함수를 만들어보자.  \n",
    "사용자로부터 정수를 입력받아 그 정수가 짝수인지 홀수인지 판별하여 출력해보자."
   ]
  },
  {
   "cell_type": "code",
   "execution_count": null,
   "metadata": {},
   "outputs": [],
   "source": [
    "# 여기에 문제 2를 풀어보세요\n"
   ]
  },
  {
   "cell_type": "markdown",
   "metadata": {},
   "source": [
    "### 클래스"
   ]
  },
  {
   "cell_type": "markdown",
   "metadata": {},
   "source": [
    "클래스 정의 방법 -> PPT 참고"
   ]
  },
  {
   "cell_type": "code",
   "execution_count": 9,
   "metadata": {},
   "outputs": [],
   "source": [
    "# 이름과 나이 정보를 관리하는 Person 클래스를 만들어보자.\n",
    "# 1. 데이터만 존재하는 클래스로 시작\n",
    "class Person :\n",
    "    name = None\n",
    "    age = 0"
   ]
  },
  {
   "cell_type": "code",
   "execution_count": 11,
   "metadata": {},
   "outputs": [
    {
     "data": {
      "text/plain": [
       "'홍길동'"
      ]
     },
     "execution_count": 11,
     "metadata": {},
     "output_type": "execute_result"
    }
   ],
   "source": [
    "# 2. 정보를 입력하는 함수 추가\n",
    "class Person :\n",
    "    name = None\n",
    "    age = 0\n",
    "    def 정보입력(self, pName, pAge) :\n",
    "        self.name = pName\n",
    "        self.age = pAge\n",
    "\n",
    "p1 = Person()\n",
    "p1.정보입력(\"홍길동\", 19)\n",
    "p1.name"
   ]
  },
  {
   "cell_type": "code",
   "execution_count": 12,
   "metadata": {},
   "outputs": [
    {
     "name": "stdout",
     "output_type": "stream",
     "text": [
      "안녕하세요\n",
      "제 이름은  홍길동 입니다.\n",
      "나이는 19 살 입니다.\n"
     ]
    }
   ],
   "source": [
    "# 3. 출력하는 함수를 통해 값 확인\n",
    "class Person :\n",
    "    name = None\n",
    "    age = 0\n",
    "    def 정보입력(self, pName, pAge) :\n",
    "        self.name = pName\n",
    "        self.age = pAge\n",
    "    def 자기소개(self) :\n",
    "        print(\"안녕하세요\")\n",
    "        print(\"제 이름은 \", self.name, \"입니다.\")\n",
    "        print(\"나이는\", self.age, \"살 입니다.\")\n",
    "\n",
    "p1 = Person()\n",
    "p1.정보입력(\"홍길동\", 19)\n",
    "p1.자기소개()"
   ]
  },
  {
   "cell_type": "code",
   "execution_count": 13,
   "metadata": {},
   "outputs": [
    {
     "name": "stdout",
     "output_type": "stream",
     "text": [
      "원의 넓이는 314.0\n"
     ]
    }
   ],
   "source": [
    "# 원의 넓이 구하는 클래스\n",
    "class Circle : \n",
    "    반지름 = 0\n",
    "    def 반지름정하기(self, radius) :\n",
    "        self.반지름 = radius\n",
    "    def 넓이구하기(self) :\n",
    "        area = self.반지름 * self.반지름 * 3.14\n",
    "        print('원의 넓이는', area)\n",
    "        \n",
    "c1 = Circle()\n",
    "c1.반지름정하기(10)\n",
    "c1.넓이구하기()"
   ]
  },
  {
   "cell_type": "code",
   "execution_count": null,
   "metadata": {},
   "outputs": [],
   "source": [
    "# 위의 코드에 원의 둘레 구하는 함수를 추가해보자.\n",
    "# 위 코드를 옮겨와서 수정해보자.\n"
   ]
  },
  {
   "cell_type": "markdown",
   "metadata": {},
   "source": [
    "초기화 함수  \n",
    "\n",
    "클래스 정보를 초기화하는 함수는 꼭 필요하진 않지만 보통은 필수적으로 정의한다.  \n",
    "클래스를 생성하면 생성할 때 한 번 자동으로 실행된다."
   ]
  },
  {
   "cell_type": "code",
   "execution_count": 14,
   "metadata": {},
   "outputs": [
    {
     "name": "stdout",
     "output_type": "stream",
     "text": [
      "Circle 객체가 생성된다.\n",
      "20\n",
      "10\n",
      "원의 넓이는 314.0\n"
     ]
    }
   ],
   "source": [
    "# 초기화하는 함수의 이름은 '__init__' 이라는 이름으로 만들어야 한다.  \n",
    "# 순서 잘 파악하기\n",
    "\n",
    "class Circle : \n",
    "    r = None\n",
    "    def __init__(self, radius=20) :\n",
    "        print(\"Circle 객체가 생성된다.\")\n",
    "        self.r = radius\n",
    "    def setR(self, radius) :\n",
    "        self.r = radius\n",
    "    def 반지름정하기(self, radius) :\n",
    "        self.반지름 = radius\n",
    "    def 넓이구하기(self) :\n",
    "        area = self.r * self.r * 3.14\n",
    "        print('원의 넓이는', area)\n",
    "        \n",
    "c1 = Circle()\n",
    "print(c1.r)\n",
    "c1.setR(10)\n",
    "print(c1.r)\n",
    "c1.넓이구하기()"
   ]
  },
  {
   "cell_type": "markdown",
   "metadata": {},
   "source": [
    "self 파라미터에 대한 이해  \n",
    "\n",
    "모든 함수들은 self(자기 자신) 파라미터를 필수적으로 받도록 한다.  \n",
    "자기 자신(self)을 받아서 자기 자신에 속한 변수 및 함수들을 호출할 수 있도록 해주기 위한 목적이다."
   ]
  }
 ],
 "metadata": {
  "kernelspec": {
   "display_name": "Python 3",
   "language": "python",
   "name": "python3"
  },
  "language_info": {
   "codemirror_mode": {
    "name": "ipython",
    "version": 3
   },
   "file_extension": ".py",
   "mimetype": "text/x-python",
   "name": "python",
   "nbconvert_exporter": "python",
   "pygments_lexer": "ipython3",
   "version": "3.7.3"
  }
 },
 "nbformat": 4,
 "nbformat_minor": 2
}

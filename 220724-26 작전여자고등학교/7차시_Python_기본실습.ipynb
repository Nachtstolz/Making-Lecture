{
 "cells": [
  {
   "cell_type": "markdown",
   "metadata": {},
   "source": [
    "### 팩토리얼 값 구하기"
   ]
  },
  {
   "cell_type": "markdown",
   "metadata": {},
   "source": [
    "수학시간에 factorial 함수에 대해서 들어보았을 것이다.  \n",
    "팩토리얼은 정수 뒤에 느낌표(!)를 붙이는 형식으로 보통 표시한다.  \n",
    "양의 정수 n에 대하여 n!(n 팩토리얼)은 1부터 n까지 모두 곱한 값을 의미한다.  \n",
    "\n",
    "3! = 3팩토리얼 = 1 x 2 x 3 = 6  \n",
    "4! = 4팩토리얼 = 1 x 2 x 3 x 4 = 24  \n",
    "\n",
    "그럼 양의 정수 n을 입력받아 해당되는 팩토리얼 값을 구하는 프로그램을 만들어보자."
   ]
  },
  {
   "cell_type": "code",
   "execution_count": null,
   "metadata": {},
   "outputs": [],
   "source": [
    "# 여기에서 프로그램을 만들어보세요.\n"
   ]
  },
  {
   "cell_type": "markdown",
   "metadata": {},
   "source": [
    "### 369게임"
   ]
  },
  {
   "cell_type": "markdown",
   "metadata": {},
   "source": [
    "369 게임에 관련된 프로그램을 만들어보자.  \n",
    "369게임은 여러 명이 둘러 앉아 1부터 차례대로 숫자를 말하는 게임이다.  \n",
    "단 3의 배수의 숫자인 경우에는 숫자를 말하지 않고 박수를 친다.  \n",
    "\n",
    "조금 더 재미있는 게임을 위해 규칙을 덧붙이자면  \n",
    "숫자 3이 들어가는 경우에도 박수를 치는 것으로 하자.  \n",
    "위 규칙에 해당하는 프로그램을 만들어보자."
   ]
  },
  {
   "cell_type": "code",
   "execution_count": null,
   "metadata": {},
   "outputs": [],
   "source": [
    "# 여기에서 프로그램을 만들어보세요.\n"
   ]
  },
  {
   "cell_type": "markdown",
   "metadata": {},
   "source": [
    "### 소수 판별하기"
   ]
  },
  {
   "cell_type": "markdown",
   "metadata": {},
   "source": [
    "어떤 양의 정수 N을 입력받아 1부터 N까지 자연수 중에서 소수들을 모두 찾아 출력하고, 그 소수들의 개수와 합계를 구하는 프로그램을 만들어보지.  \n",
    "\n",
    "소수 : 1과 자기 자신만으로 나누어지는 양의 정수  \n",
    "(참고: 1은 소수가 아니므로 제외해야한다)"
   ]
  },
  {
   "cell_type": "code",
   "execution_count": null,
   "metadata": {},
   "outputs": [],
   "source": [
    "# 여기에서 프로그램을 만들어보세요.\n"
   ]
  }
 ],
 "metadata": {
  "kernelspec": {
   "display_name": "Python 3",
   "language": "python",
   "name": "python3"
  },
  "language_info": {
   "codemirror_mode": {
    "name": "ipython",
    "version": 3
   },
   "file_extension": ".py",
   "mimetype": "text/x-python",
   "name": "python",
   "nbconvert_exporter": "python",
   "pygments_lexer": "ipython3",
   "version": "3.7.3"
  }
 },
 "nbformat": 4,
 "nbformat_minor": 2
}
